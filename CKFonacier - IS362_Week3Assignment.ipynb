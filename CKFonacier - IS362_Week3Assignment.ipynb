{
 "cells": [
  {
   "cell_type": "markdown",
   "id": "1e57d458",
   "metadata": {},
   "source": [
    "## Bicycle Trip from New York, NY to Key West, Florida"
   ]
  },
  {
   "cell_type": "markdown",
   "id": "4a9b14b0",
   "metadata": {},
   "source": [
    "On a bicycle trip from New York, NY to Key West, FL, a cyclist travels a certain amount of miles and then records the travel distance traveled each day based on the odometer reading. The travel distance between the two cities is at least 1,533 miles in total (according to optimal cycling route provided by Google Maps, ignoring the ferry ride). The cyclist dutifully logs the odometer reading at the end of each day to record the amount of distance traveled. Furthermore, they plan to record the cumulative amount of distance they travel for the entirety of the trip, until they reach Key West.\n",
    "\n",
    "Any travels less than 100 miles indicates sightseeing at the current location, taking a rest stop to enjoy the attractions. Sometimes it may also indicate a relaxation day, traveling a shorter distance that day with more rest stops along the way before the day is finished, to avoid overexerting theirself.\n",
    "\n",
    "Furthermore, the entire distance traveled will not accurately reflect the route provided by Google Maps, due to having to find alternative routes to account for scenarios such as road closures, ignoring the ferry ride suggestion, taking detours to nearby cities / rest stops, etc."
   ]
  },
  {
   "cell_type": "code",
   "execution_count": 1,
   "id": "587576d5",
   "metadata": {},
   "outputs": [],
   "source": [
    "import pandas as pd"
   ]
  },
  {
   "cell_type": "code",
   "execution_count": 2,
   "id": "960b4180",
   "metadata": {},
   "outputs": [
    {
     "name": "stdout",
     "output_type": "stream",
     "text": [
      "        Distance Traveled Each Day (Miles)  \\\n",
      "Day 1                                   55   \n",
      "Day 2                                  120   \n",
      "Day 3                                  134   \n",
      "Day 4                                   95   \n",
      "Day 5                                   37   \n",
      "Day 6                                  123   \n",
      "Day 7                                  210   \n",
      "Day 8                                   64   \n",
      "Day 9                                   23   \n",
      "Day 10                                  89   \n",
      "Day 11                                 105   \n",
      "Day 12                                 150   \n",
      "Day 13                                  97   \n",
      "Day 14                                 175   \n",
      "Day 15                                 141   \n",
      "\n",
      "        Cumulative Distance Traveled (Miles)  \n",
      "Day 1                                     55  \n",
      "Day 2                                    175  \n",
      "Day 3                                    309  \n",
      "Day 4                                    404  \n",
      "Day 5                                    441  \n",
      "Day 6                                    564  \n",
      "Day 7                                    774  \n",
      "Day 8                                    838  \n",
      "Day 9                                    861  \n",
      "Day 10                                   950  \n",
      "Day 11                                  1055  \n",
      "Day 12                                  1205  \n",
      "Day 13                                  1302  \n",
      "Day 14                                  1477  \n",
      "Day 15                                  1618  \n"
     ]
    }
   ],
   "source": [
    "miles_per_day = {\n",
    "    'Distance Traveled Each Day (Miles)': [55, 120, 134, 95, 37, 123, 210, 64, 23, 89, 105, 150, 97, 175, 141]\n",
    "}\n",
    "\n",
    "df = pd.DataFrame(miles_per_day)\n",
    "df['Cumulative Distance Traveled (Miles)'] = df['Distance Traveled Each Day (Miles)'].cumsum()\n",
    "# Note, df['Cumulative Distance Each Day'] will automatically add it into the dataframe, \n",
    "# do not add df['Cumulative Distance Each Day'] in the print() function.\n",
    "\n",
    "# .cumsum() will serve as cumulative addition for a single group of data, it can also work with multiple groups, \n",
    "# but each group must be the same length, otherwise a null value will appear in an extra space.\n",
    "\n",
    "df.index = ['Day 1','Day 2','Day 3','Day 4','Day 5','Day 6', 'Day 7', 'Day 8', 'Day 9', \n",
    "            'Day 10','Day 11', 'Day 12', 'Day 13', 'Day 14', 'Day 15']\n",
    "\n",
    "print(df)"
   ]
  },
  {
   "cell_type": "markdown",
   "id": "ca5ac882",
   "metadata": {},
   "source": [
    "At the end of the trip, after starting in New York, NY, the cyclist has traveled approximately 1618 miles in total upon reaching Key West, FL."
   ]
  }
 ],
 "metadata": {
  "kernelspec": {
   "display_name": "Python 3",
   "language": "python",
   "name": "python3"
  },
  "language_info": {
   "codemirror_mode": {
    "name": "ipython",
    "version": 3
   },
   "file_extension": ".py",
   "mimetype": "text/x-python",
   "name": "python",
   "nbconvert_exporter": "python",
   "pygments_lexer": "ipython3",
   "version": "3.8.10"
  }
 },
 "nbformat": 4,
 "nbformat_minor": 5
}
